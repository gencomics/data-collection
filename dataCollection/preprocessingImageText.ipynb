{
 "cells": [
  {
   "cell_type": "markdown",
   "metadata": {},
   "source": [
    "## Dataset with Garfield strip captions, formatting it into readily usable csv"
   ]
  },
  {
   "cell_type": "code",
   "execution_count": 42,
   "metadata": {},
   "outputs": [
    {
     "data": {
      "text/html": [
       "<div>\n",
       "<style scoped>\n",
       "    .dataframe tbody tr th:only-of-type {\n",
       "        vertical-align: middle;\n",
       "    }\n",
       "\n",
       "    .dataframe tbody tr th {\n",
       "        vertical-align: top;\n",
       "    }\n",
       "\n",
       "    .dataframe thead th {\n",
       "        text-align: right;\n",
       "    }\n",
       "</style>\n",
       "<table border=\"1\" class=\"dataframe\">\n",
       "  <thead>\n",
       "    <tr style=\"text-align: right;\">\n",
       "      <th></th>\n",
       "      <th>id</th>\n",
       "      <th>image1Text</th>\n",
       "      <th>image2Text</th>\n",
       "      <th>image3Text</th>\n",
       "    </tr>\n",
       "  </thead>\n",
       "  <tbody>\n",
       "    <tr>\n",
       "      <th>0</th>\n",
       "      <td>ga780619</td>\n",
       "      <td>Hi, there...I'm Jon Arbuckle. I'm a cartoonist...</td>\n",
       "      <td>Hi, there. I'm Garfield. I'm a cat, and this i...</td>\n",
       "      <td>Our only thought is to entertain you. Feed me.</td>\n",
       "    </tr>\n",
       "    <tr>\n",
       "      <th>1</th>\n",
       "      <td>ga780620</td>\n",
       "      <td>Happy birthday, Garfield. I have a surprise fo...</td>\n",
       "      <td>A rubber mousey!</td>\n",
       "      <td>Could've used a little salt...</td>\n",
       "    </tr>\n",
       "    <tr>\n",
       "      <th>2</th>\n",
       "      <td>ga780621</td>\n",
       "      <td>A MOUSE! GET IT!</td>\n",
       "      <td>Garfield! You didn't even try!</td>\n",
       "      <td>Show me a good mouser, and I'll show you a cat...</td>\n",
       "    </tr>\n",
       "    <tr>\n",
       "      <th>3</th>\n",
       "      <td>ga780622</td>\n",
       "      <td>I'm putting you on a diet, Garfield...here's y...</td>\n",
       "      <td>WHA...</td>\n",
       "      <td></td>\n",
       "    </tr>\n",
       "    <tr>\n",
       "      <th>4</th>\n",
       "      <td>ga780623</td>\n",
       "      <td></td>\n",
       "      <td>Ahhhhh...</td>\n",
       "      <td>Happiness is a warm television set.</td>\n",
       "    </tr>\n",
       "  </tbody>\n",
       "</table>\n",
       "</div>"
      ],
      "text/plain": [
       "         id                                         image1Text  \\\n",
       "0  ga780619  Hi, there...I'm Jon Arbuckle. I'm a cartoonist...   \n",
       "1  ga780620  Happy birthday, Garfield. I have a surprise fo...   \n",
       "2  ga780621                                   A MOUSE! GET IT!   \n",
       "3  ga780622  I'm putting you on a diet, Garfield...here's y...   \n",
       "4  ga780623                                                      \n",
       "\n",
       "                                          image2Text  \\\n",
       "0  Hi, there. I'm Garfield. I'm a cat, and this i...   \n",
       "1                                   A rubber mousey!   \n",
       "2                     Garfield! You didn't even try!   \n",
       "3                                             WHA...   \n",
       "4                                          Ahhhhh...   \n",
       "\n",
       "                                          image3Text  \n",
       "0     Our only thought is to entertain you. Feed me.  \n",
       "1                     Could've used a little salt...  \n",
       "2  Show me a good mouser, and I'll show you a cat...  \n",
       "3                                                     \n",
       "4                Happiness is a warm television set.  "
      ]
     },
     "execution_count": 42,
     "metadata": {},
     "output_type": "execute_result"
    }
   ],
   "source": [
    "# creating a object class to store each line of file\n",
    "class garfieldStripText:\n",
    "    \n",
    "    def __init__(self):\n",
    "        self.id = 0\n",
    "        self.imageText = list()\n",
    "        \n",
    "    def setFields(self, line):\n",
    "        self.setId(line)\n",
    "        self.setImageText(line)\n",
    "        \n",
    "    def getId(self):\n",
    "        return self.id\n",
    "        \n",
    "    def setId(self, line):\n",
    "        self.id = line[0:8]\n",
    "    \n",
    "    def setImageText(self, line):\n",
    "        s = line[12:]\n",
    "        sArr = s.split('-')\n",
    "        for i in range(len(sArr)):\n",
    "            sArr[i] = sArr[i].strip()\n",
    "        self.imageText = sArr\n",
    "        \n",
    "    def getImageText(self):\n",
    "        return self.imageText\n",
    "    \n",
    "    def getFieldsInList(self):\n",
    "        l = list()\n",
    "        l.append(self.getId())\n",
    "        for t in self.getImageText():\n",
    "            l.append(t)\n",
    "        return l\n",
    "    \n",
    "\n",
    "class garfieldStripsText:\n",
    "    \n",
    "    def __init__(self):\n",
    "        self.stripsText = list()\n",
    "        \n",
    "    def addRow(self, garfieldStrip):\n",
    "        self.stripsText.append(garfieldStrip.getFieldsInList())\n",
    "        \n",
    "    def readGarfieldAndReturnTextDataFrame(self, f): # filtering strip with 3 images\n",
    "        fl = f.readlines()\n",
    "        for l in fl:\n",
    "            gl = garfieldStripText() # creating object\n",
    "            gl.setFields(l) # setting fields in garfieldLine object\n",
    "            if len(gl.getImageText()) == 3:\n",
    "                self.addRow(gl)\n",
    "        # create DataFrame using data \n",
    "        df = pd.DataFrame.from_records(self.stripsText, columns =['id', 'image1Text', 'image2Text', 'image3Text'])\n",
    "        return df\n",
    "\n",
    "                \n",
    "# # # Main # # #\n",
    "# opening 'garfield.txt ' file in read mode\n",
    "f = open('garfield.txt', 'r', encoding = \"ISO-8859-1\")\n",
    "gst = garfieldStripsText()\n",
    "df = gst.readGarfieldAndReturnTextDataFrame(f)\n",
    "df.head()"
   ]
  },
  {
   "cell_type": "code",
   "execution_count": 44,
   "metadata": {},
   "outputs": [
    {
     "data": {
      "text/plain": [
       "(11748, 4)"
      ]
     },
     "execution_count": 44,
     "metadata": {},
     "output_type": "execute_result"
    }
   ],
   "source": [
    "df.shape"
   ]
  },
  {
   "cell_type": "code",
   "execution_count": 45,
   "metadata": {},
   "outputs": [],
   "source": [
    "df.to_csv('./garfield.csv', index=False, header=True)"
   ]
  },
  {
   "cell_type": "code",
   "execution_count": null,
   "metadata": {},
   "outputs": [],
   "source": []
  }
 ],
 "metadata": {
  "kernelspec": {
   "display_name": "Python 3",
   "language": "python",
   "name": "python3"
  },
  "language_info": {
   "codemirror_mode": {
    "name": "ipython",
    "version": 3
   },
   "file_extension": ".py",
   "mimetype": "text/x-python",
   "name": "python",
   "nbconvert_exporter": "python",
   "pygments_lexer": "ipython3",
   "version": "3.7.6"
  }
 },
 "nbformat": 4,
 "nbformat_minor": 2
}
